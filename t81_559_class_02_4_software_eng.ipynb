{
  "cells": [
    {
      "cell_type": "markdown",
      "metadata": {
        "id": "whjsJasuhstV"
      },
      "source": [
        "<a href=\"https://colab.research.google.com/github/jeffheaton/app_generative_ai/blob/main/t81_559_class_02_4_software_eng.ipynb\" target=\"_parent\"><img src=\"https://colab.research.google.com/assets/colab-badge.svg\" alt=\"Open In Colab\"/></a>"
      ]
    },
    {
      "cell_type": "markdown",
      "metadata": {
        "id": "euOZxlIMhstX"
      },
      "source": [
        "# T81-559: Applications of Generative Artificial Intelligence\n",
        "**Module 2: Code Generation**\n",
        "* Instructor: [Jeff Heaton](https://sites.wustl.edu/jeffheaton/), McKelvey School of Engineering, [Washington University in St. Louis](https://engineering.wustl.edu/Programs/Pages/default.aspx)\n",
        "* For more information visit the [class website](https://sites.wustl.edu/jeffheaton/t81-558/)."
      ]
    },
    {
      "cell_type": "markdown",
      "metadata": {
        "id": "d4Yov72PhstY"
      },
      "source": [
        "# Module 2 Material\n",
        "\n",
        "* Part 2.1: Prompting for Code Generation [[Video]](https://www.youtube.com/watch?v=HVId6kYKKgQ) [[Notebook]](t81_559_class_02_1_dev.ipynb)\n",
        "* Part 2.2: Handling Revision Prompts [[Video]](https://www.youtube.com/watch?v=APpV46tplXA) [[Notebook]](t81_559_class_02_2_multi_prompt.ipynb)\n",
        "* Part 2.3: Using a LLM to Help Debug [[Video]](https://www.youtube.com/watch?v=VPqSNb38QK0) [[Notebook]](t81_559_class_02_3_llm_debug.ipynb)\n",
        "* **Part 2.4: Tracking Prompts in Software Development** [[Video]](https://www.youtube.com/watch?v=oUFUuYfvXZU) [[Notebook]](t81_559_class_02_4_software_eng.ipynb)\n",
        "* Part 2.5: Limits of LLM Code Generation [[Video]](https://www.youtube.com/watch?v=dKtRI0LZSyY) [[Notebook]](t81_559_class_02_5_code_gen_limits.ipynb)\n"
      ]
    },
    {
      "cell_type": "markdown",
      "metadata": {
        "id": "AcAUP0c3hstY"
      },
      "source": [
        "# Google CoLab Instructions\n",
        "\n",
        "The following code ensures that Google CoLab is running and maps Google Drive if needed."
      ]
    },
    {
      "cell_type": "code",
      "execution_count": 7,
      "metadata": {
        "colab": {
          "base_uri": "https://localhost:8080/"
        },
        "id": "xsI496h5hstZ",
        "outputId": "1e55b6e3-4871-421c-ee11-41799fcc2248"
      },
      "outputs": [
        {
          "output_type": "stream",
          "name": "stdout",
          "text": [
            "Note: using Google CoLab\n",
            "Requirement already satisfied: langchain in /usr/local/lib/python3.11/dist-packages (0.3.27)\n",
            "Requirement already satisfied: langchain_openai in /usr/local/lib/python3.11/dist-packages (0.3.30)\n",
            "Requirement already satisfied: langchain-core<1.0.0,>=0.3.72 in /usr/local/lib/python3.11/dist-packages (from langchain) (0.3.74)\n",
            "Requirement already satisfied: langchain-text-splitters<1.0.0,>=0.3.9 in /usr/local/lib/python3.11/dist-packages (from langchain) (0.3.9)\n",
            "Requirement already satisfied: langsmith>=0.1.17 in /usr/local/lib/python3.11/dist-packages (from langchain) (0.4.14)\n",
            "Requirement already satisfied: pydantic<3.0.0,>=2.7.4 in /usr/local/lib/python3.11/dist-packages (from langchain) (2.11.7)\n",
            "Requirement already satisfied: SQLAlchemy<3,>=1.4 in /usr/local/lib/python3.11/dist-packages (from langchain) (2.0.43)\n",
            "Requirement already satisfied: requests<3,>=2 in /usr/local/lib/python3.11/dist-packages (from langchain) (2.32.3)\n",
            "Requirement already satisfied: PyYAML>=5.3 in /usr/local/lib/python3.11/dist-packages (from langchain) (6.0.2)\n",
            "Requirement already satisfied: openai<2.0.0,>=1.99.9 in /usr/local/lib/python3.11/dist-packages (from langchain_openai) (1.99.9)\n",
            "Requirement already satisfied: tiktoken<1,>=0.7 in /usr/local/lib/python3.11/dist-packages (from langchain_openai) (0.11.0)\n",
            "Requirement already satisfied: tenacity!=8.4.0,<10.0.0,>=8.1.0 in /usr/local/lib/python3.11/dist-packages (from langchain-core<1.0.0,>=0.3.72->langchain) (9.1.2)\n",
            "Requirement already satisfied: jsonpatch<2.0,>=1.33 in /usr/local/lib/python3.11/dist-packages (from langchain-core<1.0.0,>=0.3.72->langchain) (1.33)\n",
            "Requirement already satisfied: typing-extensions>=4.7 in /usr/local/lib/python3.11/dist-packages (from langchain-core<1.0.0,>=0.3.72->langchain) (4.14.1)\n",
            "Requirement already satisfied: packaging>=23.2 in /usr/local/lib/python3.11/dist-packages (from langchain-core<1.0.0,>=0.3.72->langchain) (25.0)\n",
            "Requirement already satisfied: httpx<1,>=0.23.0 in /usr/local/lib/python3.11/dist-packages (from langsmith>=0.1.17->langchain) (0.28.1)\n",
            "Requirement already satisfied: orjson>=3.9.14 in /usr/local/lib/python3.11/dist-packages (from langsmith>=0.1.17->langchain) (3.11.2)\n",
            "Requirement already satisfied: requests-toolbelt>=1.0.0 in /usr/local/lib/python3.11/dist-packages (from langsmith>=0.1.17->langchain) (1.0.0)\n",
            "Requirement already satisfied: zstandard>=0.23.0 in /usr/local/lib/python3.11/dist-packages (from langsmith>=0.1.17->langchain) (0.23.0)\n",
            "Requirement already satisfied: anyio<5,>=3.5.0 in /usr/local/lib/python3.11/dist-packages (from openai<2.0.0,>=1.99.9->langchain_openai) (4.10.0)\n",
            "Requirement already satisfied: distro<2,>=1.7.0 in /usr/local/lib/python3.11/dist-packages (from openai<2.0.0,>=1.99.9->langchain_openai) (1.9.0)\n",
            "Requirement already satisfied: jiter<1,>=0.4.0 in /usr/local/lib/python3.11/dist-packages (from openai<2.0.0,>=1.99.9->langchain_openai) (0.10.0)\n",
            "Requirement already satisfied: sniffio in /usr/local/lib/python3.11/dist-packages (from openai<2.0.0,>=1.99.9->langchain_openai) (1.3.1)\n",
            "Requirement already satisfied: tqdm>4 in /usr/local/lib/python3.11/dist-packages (from openai<2.0.0,>=1.99.9->langchain_openai) (4.67.1)\n",
            "Requirement already satisfied: annotated-types>=0.6.0 in /usr/local/lib/python3.11/dist-packages (from pydantic<3.0.0,>=2.7.4->langchain) (0.7.0)\n",
            "Requirement already satisfied: pydantic-core==2.33.2 in /usr/local/lib/python3.11/dist-packages (from pydantic<3.0.0,>=2.7.4->langchain) (2.33.2)\n",
            "Requirement already satisfied: typing-inspection>=0.4.0 in /usr/local/lib/python3.11/dist-packages (from pydantic<3.0.0,>=2.7.4->langchain) (0.4.1)\n",
            "Requirement already satisfied: charset-normalizer<4,>=2 in /usr/local/lib/python3.11/dist-packages (from requests<3,>=2->langchain) (3.4.3)\n",
            "Requirement already satisfied: idna<4,>=2.5 in /usr/local/lib/python3.11/dist-packages (from requests<3,>=2->langchain) (3.10)\n",
            "Requirement already satisfied: urllib3<3,>=1.21.1 in /usr/local/lib/python3.11/dist-packages (from requests<3,>=2->langchain) (2.5.0)\n",
            "Requirement already satisfied: certifi>=2017.4.17 in /usr/local/lib/python3.11/dist-packages (from requests<3,>=2->langchain) (2025.8.3)\n",
            "Requirement already satisfied: greenlet>=1 in /usr/local/lib/python3.11/dist-packages (from SQLAlchemy<3,>=1.4->langchain) (3.2.4)\n",
            "Requirement already satisfied: regex>=2022.1.18 in /usr/local/lib/python3.11/dist-packages (from tiktoken<1,>=0.7->langchain_openai) (2024.11.6)\n",
            "Requirement already satisfied: httpcore==1.* in /usr/local/lib/python3.11/dist-packages (from httpx<1,>=0.23.0->langsmith>=0.1.17->langchain) (1.0.9)\n",
            "Requirement already satisfied: h11>=0.16 in /usr/local/lib/python3.11/dist-packages (from httpcore==1.*->httpx<1,>=0.23.0->langsmith>=0.1.17->langchain) (0.16.0)\n",
            "Requirement already satisfied: jsonpointer>=1.9 in /usr/local/lib/python3.11/dist-packages (from jsonpatch<2.0,>=1.33->langchain-core<1.0.0,>=0.3.72->langchain) (3.0.0)\n"
          ]
        }
      ],
      "source": [
        "import os\n",
        "\n",
        "try:\n",
        "    from google.colab import drive, userdata\n",
        "    COLAB = True\n",
        "    print(\"Note: using Google CoLab\")\n",
        "except:\n",
        "    print(\"Note: not using Google CoLab\")\n",
        "    COLAB = False\n",
        "\n",
        "# OpenAI Secrets\n",
        "if COLAB:\n",
        "    os.environ[\"OPENAI_API_KEY\"] = userdata.get('OPENAI_API_KEY')\n",
        "\n",
        "# Install needed libraries in CoLab\n",
        "if COLAB:\n",
        "    !pip install langchain langchain_openai"
      ]
    },
    {
      "cell_type": "markdown",
      "metadata": {
        "id": "pC9A-LaYhsta"
      },
      "source": [
        "# 2.4: Tracking Prompts in Software Development\n",
        "\n",
        "Prompting will undoubtedly become an essential part of modern software engineering. Programmers will likely construct individual prompts to generate methods. In this part, we will see how to write a prompt that consistently produces a non-trivial image cropping function. We will also store the prompt with the function so we do not lose the prompt in the future. Additionally, we will use automated unit tests to ensure that the generated method initially does what we expect, and continues to do so in the future, even if the technique is regenerated.\n",
        "\n",
        "## Conversational Code Generation\n",
        "\n",
        "We will continue to use the conversational code generation function provided in Module 2.2.\n",
        "\n"
      ]
    },
    {
      "cell_type": "code",
      "execution_count": 8,
      "metadata": {
        "id": "TMF-rtxgRAea"
      },
      "outputs": [],
      "source": [
        "from langchain_openai import ChatOpenAI\n",
        "from langchain_core.prompts import ChatPromptTemplate, MessagesPlaceholder\n",
        "from langchain_core.output_parsers import StrOutputParser\n",
        "from langchain_core.runnables.history import RunnableWithMessageHistory\n",
        "from langchain_core.chat_history import InMemoryChatMessageHistory\n",
        "from IPython.display import display_markdown\n",
        "\n",
        "MODEL = \"gpt-5-mini\"\n",
        "SYSTEM_TEMPLATE = \"\"\"The following is a friendly conversation between a human and an\n",
        "AI to generate Python code. If you have notes about the code, place them before\n",
        "the code. Any notes about execution should follow the code. If you do mix any\n",
        "notes with the code, make them comments. Add proper comments to the code.\n",
        "Sort imports and follow PEP 8 formatting.\n",
        "\"\"\"\n",
        "\n",
        "_histories = {}\n",
        "def _get_history(session_id: str):\n",
        "    return _histories.setdefault(session_id, InMemoryChatMessageHistory())\n",
        "\n",
        "def _build_chain():\n",
        "    llm = ChatOpenAI(model=MODEL, temperature=0.0, n=1)\n",
        "    prompt = ChatPromptTemplate.from_messages([\n",
        "        (\"system\", SYSTEM_TEMPLATE),\n",
        "        MessagesPlaceholder(\"history\"),\n",
        "        (\"human\", \"{input}\")\n",
        "    ])\n",
        "    return prompt | llm | StrOutputParser()\n",
        "\n",
        "def start_conversation(session_id: str = \"default\"):\n",
        "    base = _build_chain()\n",
        "    with_history = RunnableWithMessageHistory(\n",
        "        base,\n",
        "        lambda sid: _get_history(sid),\n",
        "        input_messages_key=\"input\",\n",
        "        history_messages_key=\"history\",\n",
        "    )\n",
        "    # Return a runnable pre-bound to the session id\n",
        "    return with_history.with_config(configurable={\"session_id\": session_id})\n",
        "\n",
        "def generate_code(conversation, prompt: str):\n",
        "    print(\"Model response:\")\n",
        "    result = conversation.invoke({\"input\": prompt})\n",
        "    display_markdown(result, raw=True)\n",
        "    return result\n",
        "\n",
        "# Usage:\n",
        "# conversation = start_conversation()  # or start_conversation(\"my-session\")\n",
        "# generate_code(conversation, \"Write a function to compute Levenshtein distance.\")"
      ]
    },
    {
      "cell_type": "markdown",
      "metadata": {
        "id": "ze2LsFCScSQW"
      },
      "source": [
        "## Prompts for Consistent Code Generation\n",
        "\n",
        "The code below shows the prompt I created to generate the clipping function. It is essential to specify very clearly what you want from the LLM. In this case, I made sure to specify:\n",
        "\n",
        "* The name of the function\n",
        "* The name of all arguments to that function\n",
        "* What to return\n",
        "* The exact algorithm, including how to handle negative values\n"
      ]
    },
    {
      "cell_type": "code",
      "execution_count": 9,
      "metadata": {
        "colab": {
          "base_uri": "https://localhost:8080/",
          "height": 1000
        },
        "id": "6bkupDjIbni5",
        "outputId": "099f6f71-8d15-4a8d-a81f-0bbefd77b10b"
      },
      "outputs": [
        {
          "output_type": "stream",
          "name": "stdout",
          "text": [
            "Model response:\n"
          ]
        },
        {
          "output_type": "display_data",
          "data": {
            "text/markdown": "Notes:\n- The function below uses OpenCV (cv2) and NumPy. Ensure these are installed in your environment.\n- The code follows PEP 8 style, includes comments, and a detailed docstring with an example.\n\n```python\nimport cv2\nimport numpy as np\nfrom typing import Tuple\n\n\ndef safe_clip(\n    cv2_image: np.ndarray,\n    x: int,\n    y: int,\n    width: int,\n    height: int,\n    background\n) -> Tuple[np.ndarray, int, int]:\n    \"\"\"\n    Clip a rectangular region from an OpenCV image while safely handling\n    out-of-bounds coordinates and filling any missing areas with a\n    background color.\n\n    Parameters\n    ----------\n    cv2_image : np.ndarray\n        Source OpenCV image (H x W or H x W x C). The image can be single\n        channel (grayscale) or multi-channel (e.g., BGR).\n    x : int\n        X-coordinate (column) of the top-left corner of the requested clip\n        relative to the source image. Can be negative.\n    y : int\n        Y-coordinate (row) of the top-left corner of the requested clip\n        relative to the source image. Can be negative.\n    width : int\n        Width of the clipping area in pixels. Must be positive.\n    height : int\n        Height of the clipping area in pixels. Must be positive.\n    background : int or tuple\n        Background color used to fill areas outside the source image.\n        If the image has multiple channels, provide a tuple with one value\n        per channel (e.g., (B, G, R)). A single scalar will be broadcasted\n        to all channels.\n\n    Returns\n    -------\n    tuple (np.ndarray, int, int)\n        - new_image: np.ndarray\n            The resulting clipped image of size (height, width) or\n            (height, width, C), filled with the background color where the\n            source image did not provide pixels.\n        - x_offset: int\n            How much the origin of the clipped image has shifted in X\n            relative to the original image. This is the amount the source\n            content was moved right within the returned image. For example,\n            if x was -10, x_offset will be 10.\n        - y_offset: int\n            How much the origin of the clipped image has shifted in Y\n            relative to the original image. This is the amount the source\n            content was moved down within the returned image.\n\n    Notes\n    -----\n    - The function adjusts coordinates and size to fit within the image\n      dimensions. Areas requested outside the source image are filled with\n      the provided background color.\n    - Negative x or y effectively expands the source coordinate origin so the\n      returned image contains the requested region with the original image\n      positioned appropriately inside.\n\n    Example\n    -------\n    >>> import numpy as np\n    >>> import cv2\n    >>> # Create a 100x100 blue BGR image\n    >>> src = np.full((100, 100, 3), (255, 0, 0), dtype=np.uint8)\n    >>> # Request a 50x50 region starting at x=-10, y=20, using gray background\n    >>> clipped, x_off, y_off = safe_clip(src, x=-10, y=20, width=50,\n    ...                                  height=50, background=(128, 128, 128))\n    >>> clipped.shape\n    (50, 50, 3)\n    >>> x_off, y_off\n    (10, 0)\n    >>> # The original content appears starting at column 10 in clipped.\n    \"\"\"\n    # Validate width and height\n    if width <= 0 or height <= 0:\n        raise ValueError(\"width and height must be positive integers\")\n\n    # Determine source image dimensions and number of channels\n    if cv2_image.ndim == 2:\n        src_h, src_w = cv2_image.shape\n        channels = 1\n    elif cv2_image.ndim == 3:\n        src_h, src_w, channels = cv2_image.shape\n    else:\n        raise ValueError(\"cv2_image must be a 2D or 3D numpy array\")\n\n    # Create output image filled with the background color\n    # Ensure background matches the number of channels\n    if channels == 1:\n        # Single channel: create 2D array\n        new_img = np.full((height, width), background, dtype=cv2_image.dtype)\n    else:\n        # Multi-channel: broadcast scalar background or validate tuple length\n        if np.isscalar(background):\n            bg = [background] * channels\n        else:\n            bg = list(background)\n            if len(bg) != channels:\n                raise ValueError(\n                    \"Length of background tuple must match number of image channels\"\n                )\n        new_img = np.full((height, width, channels), bg, dtype=cv2_image.dtype)\n\n    # Compute overlapping region between requested rectangle and source image\n    src_x1 = max(x, 0)\n    src_y1 = max(y, 0)\n    src_x2 = min(x + width, src_w)\n    src_y2 = min(y + height, src_h)\n\n    # If there is no overlap, return the background-filled image and offsets\n    if src_x1 >= src_x2 or src_y1 >= src_y2:\n        x_offset = -min(x, 0)\n        y_offset = -min(y, 0)\n        return new_img, x_offset, y_offset\n\n    # Destination coordinates in the new image where source pixels will be placed\n    dst_x1 = src_x1 - x\n    dst_y1 = src_y1 - y\n    dst_x2 = dst_x1 + (src_x2 - src_x1)\n    dst_y2 = dst_y1 + (src_y2 - src_y1)\n\n    # Copy the overlapping region from source into the destination image\n    if channels == 1:\n        new_img[dst_y1:dst_y2, dst_x1:dst_x2] = cv2_image[src_y1:src_y2, src_x1:src_x2]\n    else:\n        new_img[dst_y1:dst_y2, dst_x1:dst_x2, :] = cv2_image[\n            src_y1:src_y2, src_x1:src_x2, :\n        ]\n\n    # Offsets indicate the shift of the original requested origin inside new_img\n    x_offset = dst_x1\n    y_offset = dst_y1\n\n    return new_img, x_offset, y_offset\n```\n\nExecution notes:\n- Requires OpenCV (cv2) and NumPy installed (e.g., pip install opencv-python numpy).\n- The function accepts BGR images (default OpenCV color order). If you work with other\n  color orders, handle conversions before or after calling safe_clip."
          },
          "metadata": {}
        },
        {
          "output_type": "execute_result",
          "data": {
            "text/plain": [
              "'Notes:\\n- The function below uses OpenCV (cv2) and NumPy. Ensure these are installed in your environment.\\n- The code follows PEP 8 style, includes comments, and a detailed docstring with an example.\\n\\n```python\\nimport cv2\\nimport numpy as np\\nfrom typing import Tuple\\n\\n\\ndef safe_clip(\\n    cv2_image: np.ndarray,\\n    x: int,\\n    y: int,\\n    width: int,\\n    height: int,\\n    background\\n) -> Tuple[np.ndarray, int, int]:\\n    \"\"\"\\n    Clip a rectangular region from an OpenCV image while safely handling\\n    out-of-bounds coordinates and filling any missing areas with a\\n    background color.\\n\\n    Parameters\\n    ----------\\n    cv2_image : np.ndarray\\n        Source OpenCV image (H x W or H x W x C). The image can be single\\n        channel (grayscale) or multi-channel (e.g., BGR).\\n    x : int\\n        X-coordinate (column) of the top-left corner of the requested clip\\n        relative to the source image. Can be negative.\\n    y : int\\n        Y-coordinate (row) of the top-left corner of the requested clip\\n        relative to the source image. Can be negative.\\n    width : int\\n        Width of the clipping area in pixels. Must be positive.\\n    height : int\\n        Height of the clipping area in pixels. Must be positive.\\n    background : int or tuple\\n        Background color used to fill areas outside the source image.\\n        If the image has multiple channels, provide a tuple with one value\\n        per channel (e.g., (B, G, R)). A single scalar will be broadcasted\\n        to all channels.\\n\\n    Returns\\n    -------\\n    tuple (np.ndarray, int, int)\\n        - new_image: np.ndarray\\n            The resulting clipped image of size (height, width) or\\n            (height, width, C), filled with the background color where the\\n            source image did not provide pixels.\\n        - x_offset: int\\n            How much the origin of the clipped image has shifted in X\\n            relative to the original image. This is the amount the source\\n            content was moved right within the returned image. For example,\\n            if x was -10, x_offset will be 10.\\n        - y_offset: int\\n            How much the origin of the clipped image has shifted in Y\\n            relative to the original image. This is the amount the source\\n            content was moved down within the returned image.\\n\\n    Notes\\n    -----\\n    - The function adjusts coordinates and size to fit within the image\\n      dimensions. Areas requested outside the source image are filled with\\n      the provided background color.\\n    - Negative x or y effectively expands the source coordinate origin so the\\n      returned image contains the requested region with the original image\\n      positioned appropriately inside.\\n\\n    Example\\n    -------\\n    >>> import numpy as np\\n    >>> import cv2\\n    >>> # Create a 100x100 blue BGR image\\n    >>> src = np.full((100, 100, 3), (255, 0, 0), dtype=np.uint8)\\n    >>> # Request a 50x50 region starting at x=-10, y=20, using gray background\\n    >>> clipped, x_off, y_off = safe_clip(src, x=-10, y=20, width=50,\\n    ...                                  height=50, background=(128, 128, 128))\\n    >>> clipped.shape\\n    (50, 50, 3)\\n    >>> x_off, y_off\\n    (10, 0)\\n    >>> # The original content appears starting at column 10 in clipped.\\n    \"\"\"\\n    # Validate width and height\\n    if width <= 0 or height <= 0:\\n        raise ValueError(\"width and height must be positive integers\")\\n\\n    # Determine source image dimensions and number of channels\\n    if cv2_image.ndim == 2:\\n        src_h, src_w = cv2_image.shape\\n        channels = 1\\n    elif cv2_image.ndim == 3:\\n        src_h, src_w, channels = cv2_image.shape\\n    else:\\n        raise ValueError(\"cv2_image must be a 2D or 3D numpy array\")\\n\\n    # Create output image filled with the background color\\n    # Ensure background matches the number of channels\\n    if channels == 1:\\n        # Single channel: create 2D array\\n        new_img = np.full((height, width), background, dtype=cv2_image.dtype)\\n    else:\\n        # Multi-channel: broadcast scalar background or validate tuple length\\n        if np.isscalar(background):\\n            bg = [background] * channels\\n        else:\\n            bg = list(background)\\n            if len(bg) != channels:\\n                raise ValueError(\\n                    \"Length of background tuple must match number of image channels\"\\n                )\\n        new_img = np.full((height, width, channels), bg, dtype=cv2_image.dtype)\\n\\n    # Compute overlapping region between requested rectangle and source image\\n    src_x1 = max(x, 0)\\n    src_y1 = max(y, 0)\\n    src_x2 = min(x + width, src_w)\\n    src_y2 = min(y + height, src_h)\\n\\n    # If there is no overlap, return the background-filled image and offsets\\n    if src_x1 >= src_x2 or src_y1 >= src_y2:\\n        x_offset = -min(x, 0)\\n        y_offset = -min(y, 0)\\n        return new_img, x_offset, y_offset\\n\\n    # Destination coordinates in the new image where source pixels will be placed\\n    dst_x1 = src_x1 - x\\n    dst_y1 = src_y1 - y\\n    dst_x2 = dst_x1 + (src_x2 - src_x1)\\n    dst_y2 = dst_y1 + (src_y2 - src_y1)\\n\\n    # Copy the overlapping region from source into the destination image\\n    if channels == 1:\\n        new_img[dst_y1:dst_y2, dst_x1:dst_x2] = cv2_image[src_y1:src_y2, src_x1:src_x2]\\n    else:\\n        new_img[dst_y1:dst_y2, dst_x1:dst_x2, :] = cv2_image[\\n            src_y1:src_y2, src_x1:src_x2, :\\n        ]\\n\\n    # Offsets indicate the shift of the original requested origin inside new_img\\n    x_offset = dst_x1\\n    y_offset = dst_y1\\n\\n    return new_img, x_offset, y_offset\\n```\\n\\nExecution notes:\\n- Requires OpenCV (cv2) and NumPy installed (e.g., pip install opencv-python numpy).\\n- The function accepts BGR images (default OpenCV color order). If you work with other\\n  color orders, handle conversions before or after calling safe_clip.'"
            ],
            "application/vnd.google.colaboratory.intrinsic+json": {
              "type": "string"
            }
          },
          "metadata": {},
          "execution_count": 9
        }
      ],
      "source": [
        "conversation = start_conversation()\n",
        "generate_code(conversation,\"\"\"\n",
        "Write a Python function named safe_clip using the PEP-8 style guide. The function\n",
        "should accept five parameters: cv2_image, x, y, width, height, and background.\n",
        "The imports should be sorted alphabetically.\n",
        "\n",
        "The purpose of this function is to clip a region from an OpenCV image while a\n",
        "djusting for boundaries and filling any areas missing from the original image\n",
        "boundaries with a specified color. Ensure that the code includes comments and a\n",
        "docstring explaining the functionality in detail.\n",
        "\n",
        "The function should:\n",
        "\n",
        "Calculate the dimensions of the clipping region and adjust them if they extend\n",
        "beyond the image boundaries. Negative x and y indicate that the source image\n",
        "must be expanded to accomodate the these coordinate that were outside the image.\n",
        "Create a new image of the specified size, filled with the background color.\n",
        "Place the clipped region into the newly created image at the appropriate location.\n",
        "Return a tuple containing the new image, along with x and y offsets indicating\n",
        "how much the origin of the clipped image has shifted relative to the original image.\n",
        "The return type should be specified in the function's docstring, which should\n",
        "also detail the types and purposes of each parameter. Additionally, mention that\n",
        "the function will adjust coordinates and size to fit within the image dimensions and\n",
        "fill missing areas with the specified background color.\n",
        "\n",
        "Include a detailed example in the docstring illustrating how the function is\n",
        "called and what it returns.\n",
        "\"\"\")"
      ]
    },
    {
      "cell_type": "markdown",
      "metadata": {
        "id": "OCmjBxIdcesJ"
      },
      "source": [
        "## Trying Out the Generated Code\n",
        "\n",
        "The code below shows the prompt I created to generate the clipping function. It is essential to specify very clearly what you want from the LLM. In this case, I made sure to specify:\n",
        "\n",
        "* The name of the function\n",
        "* The name of all arguments to that function\n",
        "* What to return\n",
        "* The exact algorithm, including how to handle negative values\n",
        "\n",
        "The following code shows my function; I also embed the prompt inside the source as a comment. This way, I can track changes to both the function and prompt as I check both in a source code repository like GitHub."
      ]
    },
    {
      "cell_type": "code",
      "execution_count": 10,
      "metadata": {
        "id": "q42Lx21EcjTf"
      },
      "outputs": [],
      "source": [
        "import numpy as np\n",
        "\n",
        "## safe_clip was generated by the following prompt:\n",
        "# Write a Python function named safe_clip using the PEP-8 style guide. The function\n",
        "# should accept five parameters: cv2_image, x, y, width, height, and background.\n",
        "# The imports should be sorted alphabetically.\n",
        "#\n",
        "# The purpose of this function is to clip a region from an OpenCV image while a\n",
        "# djusting for boundaries and filling any areas missing from the original image\n",
        "# boundaries with a specified color. Ensure that the code includes comments and a\n",
        "# docstring explaining the functionality in detail.\n",
        "#\n",
        "# The function should:\n",
        "#\n",
        "# Calculate the dimensions of the clipping region and adjust them if they extend\n",
        "# beyond the image boundaries. Negative x and y indicate that the source image\n",
        "# must be expanded to accomodate the these coordinate that were outside the image.\n",
        "# Create a new image of the specified size, filled with the background color.\n",
        "# Place the clipped region into the newly created image at the appropriate location.\n",
        "# Return a tuple containing the new image, along with x and y offsets indicating\n",
        "# how much the origin of the clipped image has shifted relative to the original image.\n",
        "# The return type should be specified in the function's docstring, which should\n",
        "# also detail the types and purposes of each parameter. Additionally, mention that\n",
        "# the function will adjust coordinates and size to fit within the image dimensions and\n",
        "# fill missing areas with the specified background color.\n",
        "#\n",
        "# Include a detailed example in the docstring illustrating how the function is\n",
        "# called and what it returns.\n",
        "\n",
        "def safe_clip(cv2_image, x, y, width, height, background):\n",
        "    \"\"\"\n",
        "    Clips a region from an OpenCV image, adjusting for boundaries and filling missing areas.\n",
        "\n",
        "    Parameters:\n",
        "        cv2_image (numpy.ndarray): The source image from which to clip the region.\n",
        "        x (int): The x-coordinate of the top-left corner of the clipping region.\n",
        "        y (int): The y-coordinate of the top-left corner of the clipping region.\n",
        "        width (int): The width of the clipping region.\n",
        "        height (int): The height of the clipping region.\n",
        "        background (tuple): A tuple representing the BGR color (e.g., (255, 255, 255) for white) used to fill missing areas.\n",
        "\n",
        "    Returns:\n",
        "        tuple: A tuple containing:\n",
        "            - new_image (numpy.ndarray): The new image with the clipped region and background.\n",
        "            - x_offset (int): The x-coordinate offset of the new image relative to the original image.\n",
        "            - y_offset (int): The y-coordinate offset of the new image relative to the original image.\n",
        "\n",
        "    Example:\n",
        "        >>> img = np.zeros((100, 100, 3), dtype=np.uint8)\n",
        "        >>> clipped_img, x_off, y_off = safe_clip(img, -10, -10, 120, 120, (255, 0, 0))\n",
        "        >>> print(clipped_img.shape, x_off, y_off)\n",
        "        ((120, 120, 3), 10, 10)\n",
        "    \"\"\"\n",
        "    # Calculate effective x, y, width, and height considering image boundaries\n",
        "    x_eff = max(x, 0)\n",
        "    y_eff = max(y, 0)\n",
        "    width_eff = min(width, cv2_image.shape[1] - x_eff)\n",
        "    height_eff = min(height, cv2_image.shape[0] - y_eff)\n",
        "\n",
        "    # Create a new image filled with the background color\n",
        "    new_image = np.full((height, width, 3), background, dtype=cv2_image.dtype)\n",
        "\n",
        "    # Calculate offsets if the requested region is out of the original image bounds\n",
        "    x_offset = -min(x, 0)\n",
        "    y_offset = -min(y, 0)\n",
        "\n",
        "    # Place the clipped part of the original image into the new image\n",
        "    new_image[y_offset:y_offset + height_eff, x_offset:x_offset + width_eff] = \\\n",
        "        cv2_image[y_eff:y_eff + height_eff, x_eff:x_eff + width_eff]\n",
        "\n",
        "    return new_image, x_offset, y_offset"
      ]
    },
    {
      "cell_type": "markdown",
      "metadata": {
        "id": "0U3wWY3jv1it"
      },
      "source": [
        "Now, I will create an image of a grayscale and show how the function performs on three different types of crops. One of the critical features of this cropping function is that it might expand the original image if the upper-left corner or lower-right corner is off of the original image."
      ]
    },
    {
      "cell_type": "code",
      "execution_count": 11,
      "metadata": {
        "colab": {
          "base_uri": "https://localhost:8080/",
          "height": 328
        },
        "id": "DcmhBIZQclni",
        "outputId": "32aefe4a-bd63-42a0-970a-384d15cb7c36"
      },
      "outputs": [
        {
          "output_type": "display_data",
          "data": {
            "text/plain": [
              "<Figure size 1600x400 with 4 Axes>"
            ],
            "image/png": "[encoded data removed]"
          },
          "metadata": {}
        }
      ],
      "source": [
        "import cv2\n",
        "import numpy as np\n",
        "import matplotlib.pyplot as plt\n",
        "\n",
        "# Create a demo image (100x100) with a gradient and a solid square in the center\n",
        "image = np.zeros((100, 100, 3), dtype=np.uint8)\n",
        "cv2.rectangle(image, (30, 30), (70, 70), (255, 255, 255), -1)  # White square\n",
        "for i in range(100):\n",
        "    image[:, i] = i * 2.55  # Gradient from black to white\n",
        "\n",
        "# Define background color\n",
        "background_color = (0, 0, 255)  # Red background\n",
        "\n",
        "# Perform clipping operations\n",
        "clipped_image_within, _, _ = safe_clip(image, 20, 20, 60, 60, background_color)\n",
        "clipped_image_edge, _, _ = safe_clip(image, 50, 50, 100, 100, background_color)\n",
        "clipped_image_outside, _, _ = safe_clip(image, -10, -10, 120, 120, background_color)\n",
        "\n",
        "# Setup matplotlib plots\n",
        "fig, axs = plt.subplots(1, 4, figsize=(16, 4))\n",
        "axs[0].imshow(cv2.cvtColor(image, cv2.COLOR_BGR2RGB))\n",
        "axs[0].set_title('Original Image')\n",
        "axs[0].axis('off')\n",
        "\n",
        "axs[1].imshow(cv2.cvtColor(clipped_image_within, cv2.COLOR_BGR2RGB))\n",
        "axs[1].set_title('Clipped Within Bounds')\n",
        "axs[1].axis('off')\n",
        "\n",
        "axs[2].imshow(cv2.cvtColor(clipped_image_edge, cv2.COLOR_BGR2RGB))\n",
        "axs[2].set_title('Clipped At Edge')\n",
        "axs[2].axis('off')\n",
        "\n",
        "axs[3].imshow(cv2.cvtColor(clipped_image_outside, cv2.COLOR_BGR2RGB))\n",
        "axs[3].set_title('Clipped Outside Bounds')\n",
        "axs[3].axis('off')\n",
        "\n",
        "plt.show()"
      ]
    },
    {
      "cell_type": "markdown",
      "metadata": {
        "id": "B5g--vkll2de"
      },
      "source": [
        "## Provide Unit Tests\n",
        "\n",
        "Unit testing is an essential facet of software engineering. Unit testing is necessary when a prompt generates your code. The following code shows how I converted the previous three examples into unit tests.\n",
        "\n",
        "Most software architects suggest you should not use an LLM to generate the unit tests because you must know what is being tested."
      ]
    },
    {
      "cell_type": "code",
      "execution_count": 13,
      "metadata": {
        "id": "PFT-XSZ-l5U7"
      },
      "outputs": [],
      "source": [
        "import unittest\n",
        "import numpy as np\n",
        "import cv2\n",
        "\n",
        "class TestSafeClip(unittest.TestCase):\n",
        "\n",
        "    def setUp(self):\n",
        "        self.image = np.zeros((100, 100, 3), dtype=np.uint8)\n",
        "        cv2.rectangle(self.image, (30, 30), (70, 70), (255, 255, 255), -1)\n",
        "        for i in range(100):\n",
        "            self.image[:, i] = i * 2.55  # Gradient from black to white\n",
        "        self.background_color = (0, 0, 255)  # Blue background\n",
        "\n",
        "    def test_clip_within_bounds(self):\n",
        "        clipped_image, x_off, y_off = safe_clip(self.image, 20, 20, 60, 60, self.background_color)\n",
        "        self.assertEqual(clipped_image.shape, (60, 60, 3))\n",
        "        self.assertEqual((x_off, y_off), (0, 0))\n",
        "        self.assertTrue((clipped_image[0, 0] != self.background_color).all())\n",
        "\n",
        "    def test_clip_at_edge(self):\n",
        "        clipped_image, x_off, y_off = safe_clip(self.image, 50, 50, 100, 100, self.background_color)\n",
        "        self.assertEqual(clipped_image.shape, (100, 100, 3))\n",
        "        self.assertEqual((x_off, y_off), (0, 0))\n",
        "        self.assertTrue((clipped_image[0, 0] == [127, 127, 127]).all())\n",
        "\n",
        "    def test_clip_outside_bounds(self):\n",
        "        clipped_image, x_off, y_off = safe_clip(self.image, -10, -10, 120, 120, self.background_color)\n",
        "        self.assertEqual(clipped_image.shape, (120, 120, 3))\n",
        "        self.assertEqual((x_off, y_off), (10, 10))\n",
        "        self.assertTrue((clipped_image[10, 10] == [0, 0, 0]).all())\n",
        "\n",
        "test = TestSafeClip()\n",
        "test.setUp()\n",
        "test.test_clip_within_bounds()\n",
        "test.test_clip_at_edge()\n",
        "test.test_clip_outside_bounds()"
      ]
    }
  ],
  "metadata": {
    "anaconda-cloud": {},
    "colab": {
      "provenance": []
    },
    "kernelspec": {
      "display_name": "Python 3.11 (genai)",
      "language": "python",
      "name": "genai"
    },
    "language_info": {
      "codemirror_mode": {
        "name": "ipython",
        "version": 3
      },
      "file_extension": ".py",
      "mimetype": "text/x-python",
      "name": "python",
      "nbconvert_exporter": "python",
      "pygments_lexer": "ipython3",
      "version": "3.11.8"
    },
    "varInspector": {
      "cols": {
        "lenName": 16,
        "lenType": 16,
        "lenVar": 40
      },
      "kernels_config": {
        "python": {
          "delete_cmd_postfix": "",
          "delete_cmd_prefix": "del ",
          "library": "var_list.py",
          "varRefreshCmd": "print(var_dic_list())"
        },
        "r": {
          "delete_cmd_postfix": ") ",
          "delete_cmd_prefix": "rm(",
          "library": "var_list.r",
          "varRefreshCmd": "cat(var_dic_list()) "
        }
      },
      "types_to_exclude": [
        "module",
        "function",
        "builtin_function_or_method",
        "instance",
        "_Feature"
      ],
      "window_display": false
    }
  },
  "nbformat": 4,
  "nbformat_minor": 0
}